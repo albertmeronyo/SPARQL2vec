{
 "cells": [
  {
   "cell_type": "code",
   "execution_count": 3,
   "metadata": {},
   "outputs": [
    {
     "name": "stdout",
     "output_type": "stream",
     "text": [
      "Collecting gensim\n",
      "  Using cached https://files.pythonhosted.org/packages/62/19/8ecba86351de0eacb9baf1cc49ba86315cd91bc672acd74d6e4e709eb482/gensim-3.6.0-cp36-cp36m-macosx_10_6_intel.macosx_10_9_intel.macosx_10_9_x86_64.macosx_10_10_intel.macosx_10_10_x86_64.whl\n",
      "Requirement already satisfied: numpy>=1.11.3 in /Users/Albert/Library/Python/3.6/lib/python/site-packages (from gensim) (1.15.4)\n",
      "Requirement already satisfied: scipy>=0.18.1 in /usr/local/lib/python3.6/site-packages (from gensim) (1.1.0)\n",
      "Requirement already satisfied: six>=1.5.0 in /Users/Albert/Library/Python/3.6/lib/python/site-packages (from gensim) (1.11.0)\n",
      "Collecting smart-open>=1.2.1 (from gensim)\n",
      "Collecting requests (from smart-open>=1.2.1->gensim)\n",
      "  Using cached https://files.pythonhosted.org/packages/ff/17/5cbb026005115301a8fb2f9b0e3e8d32313142fe8b617070e7baad20554f/requests-2.20.1-py2.py3-none-any.whl\n",
      "Requirement already satisfied: boto>=2.32 in /usr/local/lib/python3.6/site-packages (from smart-open>=1.2.1->gensim) (2.49.0)\n",
      "Collecting boto3 (from smart-open>=1.2.1->gensim)\n",
      "  Using cached https://files.pythonhosted.org/packages/1e/a2/86ac40bc8e091d18c4af321972a0957f387622d13c8e9e618c8a12c22ac1/boto3-1.9.44-py2.py3-none-any.whl\n",
      "Requirement already satisfied: bz2file in /usr/local/lib/python3.6/site-packages (from smart-open>=1.2.1->gensim) (0.98)\n",
      "Collecting urllib3<1.25,>=1.21.1 (from requests->smart-open>=1.2.1->gensim)\n",
      "  Using cached https://files.pythonhosted.org/packages/62/00/ee1d7de624db8ba7090d1226aebefab96a2c71cd5cfa7629d6ad3f61b79e/urllib3-1.24.1-py2.py3-none-any.whl\n",
      "Collecting certifi>=2017.4.17 (from requests->smart-open>=1.2.1->gensim)\n",
      "  Using cached https://files.pythonhosted.org/packages/56/9d/1d02dd80bc4cd955f98980f28c5ee2200e1209292d5f9e9cc8d030d18655/certifi-2018.10.15-py2.py3-none-any.whl\n",
      "Requirement already satisfied: idna<2.8,>=2.5 in /usr/local/lib/python3.6/site-packages (from requests->smart-open>=1.2.1->gensim) (2.7)\n",
      "Requirement already satisfied: chardet<3.1.0,>=3.0.2 in /usr/local/lib/python3.6/site-packages (from requests->smart-open>=1.2.1->gensim) (3.0.4)\n",
      "Collecting botocore<1.13.0,>=1.12.44 (from boto3->smart-open>=1.2.1->gensim)\n",
      "  Using cached https://files.pythonhosted.org/packages/e5/14/fca2c32c33cc6321c8820c6c4193131438a1055c95b6951003ebd225f03b/botocore-1.12.44-py2.py3-none-any.whl\n",
      "Collecting jmespath<1.0.0,>=0.7.1 (from boto3->smart-open>=1.2.1->gensim)\n",
      "  Using cached https://files.pythonhosted.org/packages/b7/31/05c8d001f7f87f0f07289a5fc0fc3832e9a57f2dbd4d3b0fee70e0d51365/jmespath-0.9.3-py2.py3-none-any.whl\n",
      "Collecting s3transfer<0.2.0,>=0.1.10 (from boto3->smart-open>=1.2.1->gensim)\n",
      "  Using cached https://files.pythonhosted.org/packages/d7/14/2a0004d487464d120c9fb85313a75cd3d71a7506955be458eebfe19a6b1d/s3transfer-0.1.13-py2.py3-none-any.whl\n",
      "Collecting docutils>=0.10 (from botocore<1.13.0,>=1.12.44->boto3->smart-open>=1.2.1->gensim)\n",
      "  Using cached https://files.pythonhosted.org/packages/36/fa/08e9e6e0e3cbd1d362c3bbee8d01d0aedb2155c4ac112b19ef3cae8eed8d/docutils-0.14-py3-none-any.whl\n",
      "Requirement already satisfied: python-dateutil<3.0.0,>=2.1; python_version >= \"2.7\" in /usr/local/lib/python3.6/site-packages (from botocore<1.13.0,>=1.12.44->boto3->smart-open>=1.2.1->gensim) (2.7.5)\n",
      "Installing collected packages: urllib3, certifi, requests, docutils, jmespath, botocore, s3transfer, boto3, smart-open, gensim\n",
      "Successfully installed boto3-1.9.44 botocore-1.12.44 certifi-2018.10.15 docutils-0.14 gensim-3.6.0 jmespath-0.9.3 requests-2.20.1 s3transfer-0.1.13 smart-open-1.7.1 urllib3-1.24.1\n"
     ]
    }
   ],
   "source": [
    "# Install required packages in the current Jupyter kernel\n",
    "import sys\n",
    "!{sys.executable} -m pip install gensim --user"
   ]
  },
  {
   "cell_type": "code",
   "execution_count": 2,
   "metadata": {},
   "outputs": [],
   "source": [
    "import gensim\n",
    "import gzip\n",
    "import urllib\n",
    "import logging\n"
   ]
  },
  {
   "cell_type": "code",
   "execution_count": 7,
   "metadata": {},
   "outputs": [
    {
     "name": "stderr",
     "output_type": "stream",
     "text": [
      "WARNING:gensim.models.base_any2vec:consider setting layer size to a multiple of 4 for greater performance\n",
      "WARNING:gensim.models.base_any2vec:Effective 'alpha' higher than previous training cycles\n"
     ]
    },
    {
     "data": {
      "text/plain": [
       "(1036504, 3759890)"
      ]
     },
     "execution_count": 7,
     "metadata": {},
     "output_type": "execute_result"
    }
   ],
   "source": [
    "# Prepare dataset\n",
    "def prepare_sparql_log_string(line):\n",
    "    str_line = str(line)\n",
    "    #print(str_line)\n",
    "    params = str_line.split()\n",
    "    url = \"http://example.org\" + params[5][1:-4]\n",
    "    qs = urllib.parse.urlparse(url)[4]\n",
    "    q = urllib.parse.parse_qs(qs)\n",
    "    #print(q)\n",
    "    if 'query' in q:\n",
    "        return q['query'][0]\n",
    "    \n",
    "# Preprocess\n",
    "def preprocess_dataset(dataset):\n",
    "    for i, line in enumerate(dataset):\n",
    "        dataset[i] = gensim.utils.simple_preprocess(line)\n",
    "    \n",
    "dataset = []\n",
    "input_file = \"data/access.log-20100430.gz\"\n",
    "with gzip.open (input_file, 'rb') as f:\n",
    "    for i,line in enumerate(f):\n",
    "        entry = prepare_sparql_log_string(line)\n",
    "        if entry:\n",
    "            dataset.append(entry)\n",
    "            \n",
    "        \n",
    "logging.info(\"Prepared correctly {} queries\".format(len(dataset)))\n",
    "\n",
    "preprocess_dataset(dataset)\n",
    "\n",
    "model = gensim.models.Word2Vec(\n",
    "        dataset,\n",
    "        size=150,\n",
    "        window=10,\n",
    "        min_count=2,\n",
    "        workers=10)\n",
    "model.train(dataset, total_examples=len(dataset), epochs=10)\n"
   ]
  },
  {
   "cell_type": "code",
   "execution_count": 25,
   "metadata": {},
   "outputs": [
    {
     "data": {
      "text/plain": [
       "[('offset', 0.4479193091392517),\n",
       " ('en', 0.4122276306152344),\n",
       " ('lang', 0.398708313703537),\n",
       " ('limit', 0.34722229838371277),\n",
       " ('partner_dance', 0.3251117169857025),\n",
       " ('langmatches', 0.28163447976112366)]"
      ]
     },
     "execution_count": 25,
     "metadata": {},
     "output_type": "execute_result"
    }
   ],
   "source": [
    "# Testing the model\n",
    "w1 = [\"order\"]\n",
    "\n",
    "model.wv.most_similar(positive=w1, topn=6)\n",
    "#model.wv.vocab"
   ]
  }
 ],
 "metadata": {
  "kernelspec": {
   "display_name": "Python 3",
   "language": "python",
   "name": "python3"
  },
  "language_info": {
   "codemirror_mode": {
    "name": "ipython",
    "version": 3
   },
   "file_extension": ".py",
   "mimetype": "text/x-python",
   "name": "python",
   "nbconvert_exporter": "python",
   "pygments_lexer": "ipython3",
   "version": "3.6.5"
  }
 },
 "nbformat": 4,
 "nbformat_minor": 2
}
